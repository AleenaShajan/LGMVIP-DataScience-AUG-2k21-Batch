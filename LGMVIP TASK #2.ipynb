{
 "cells": [
  {
   "cell_type": "markdown",
   "id": "d655977d",
   "metadata": {},
   "source": [
    "<b>LET'S GROW MORE : DATA SCIENCE VIRTUAL INTERNSHIP PROGRAM"
   ]
  },
  {
   "cell_type": "markdown",
   "id": "7efaffaa",
   "metadata": {},
   "source": [
    "<B>BATCH : AUGUST 2021"
   ]
  },
  {
   "cell_type": "markdown",
   "id": "c5138bee",
   "metadata": {},
   "source": [
    "<B>AUTHOR : ALEENA VADAKKEDATHU SHAJAN"
   ]
  },
  {
   "cell_type": "markdown",
   "id": "624ffc06",
   "metadata": {},
   "source": [
    "<B>TASK 02 : Stock Market Prediction And Forecasting Using Stacked LSTM"
   ]
  },
  {
   "cell_type": "markdown",
   "id": "86c20a82",
   "metadata": {},
   "source": [
    "<b>IMPORTING ALL THE REQUIRED LIBRARIES"
   ]
  },
  {
   "cell_type": "code",
   "execution_count": 1,
   "id": "760d5ef2",
   "metadata": {},
   "outputs": [],
   "source": [
    "import numpy as np\n",
    "import pandas as pd\n",
    "import matplotlib.pyplot as plt\n",
    "import seaborn as sns\n",
    "from matplotlib import style\n",
    "from sklearn.preprocessing import MinMaxScaler as msc\n",
    "\n",
    "from keras.models import Sequential\n",
    "from keras.layers import Dense\n",
    "from keras.layers import Dropout\n",
    "from keras.layers import LSTM"
   ]
  },
  {
   "cell_type": "markdown",
   "id": "b3c446e4",
   "metadata": {},
   "source": [
    "<b>LOADING,READING AND ANALYZING THE DATASET"
   ]
  },
  {
   "cell_type": "code",
   "execution_count": 2,
   "id": "5f1a0aac",
   "metadata": {},
   "outputs": [
    {
     "data": {
      "text/html": [
       "<div>\n",
       "<style scoped>\n",
       "    .dataframe tbody tr th:only-of-type {\n",
       "        vertical-align: middle;\n",
       "    }\n",
       "\n",
       "    .dataframe tbody tr th {\n",
       "        vertical-align: top;\n",
       "    }\n",
       "\n",
       "    .dataframe thead th {\n",
       "        text-align: right;\n",
       "    }\n",
       "</style>\n",
       "<table border=\"1\" class=\"dataframe\">\n",
       "  <thead>\n",
       "    <tr style=\"text-align: right;\">\n",
       "      <th></th>\n",
       "      <th>Date</th>\n",
       "      <th>Open</th>\n",
       "      <th>High</th>\n",
       "      <th>Low</th>\n",
       "      <th>Last</th>\n",
       "      <th>Close</th>\n",
       "      <th>Total Trade Quantity</th>\n",
       "      <th>Turnover (Lacs)</th>\n",
       "    </tr>\n",
       "  </thead>\n",
       "  <tbody>\n",
       "    <tr>\n",
       "      <th>0</th>\n",
       "      <td>2018-09-28</td>\n",
       "      <td>234.05</td>\n",
       "      <td>235.95</td>\n",
       "      <td>230.20</td>\n",
       "      <td>233.50</td>\n",
       "      <td>233.75</td>\n",
       "      <td>3069914</td>\n",
       "      <td>7162.35</td>\n",
       "    </tr>\n",
       "    <tr>\n",
       "      <th>1</th>\n",
       "      <td>2018-09-27</td>\n",
       "      <td>234.55</td>\n",
       "      <td>236.80</td>\n",
       "      <td>231.10</td>\n",
       "      <td>233.80</td>\n",
       "      <td>233.25</td>\n",
       "      <td>5082859</td>\n",
       "      <td>11859.95</td>\n",
       "    </tr>\n",
       "    <tr>\n",
       "      <th>2</th>\n",
       "      <td>2018-09-26</td>\n",
       "      <td>240.00</td>\n",
       "      <td>240.00</td>\n",
       "      <td>232.50</td>\n",
       "      <td>235.00</td>\n",
       "      <td>234.25</td>\n",
       "      <td>2240909</td>\n",
       "      <td>5248.60</td>\n",
       "    </tr>\n",
       "    <tr>\n",
       "      <th>3</th>\n",
       "      <td>2018-09-25</td>\n",
       "      <td>233.30</td>\n",
       "      <td>236.75</td>\n",
       "      <td>232.00</td>\n",
       "      <td>236.25</td>\n",
       "      <td>236.10</td>\n",
       "      <td>2349368</td>\n",
       "      <td>5503.90</td>\n",
       "    </tr>\n",
       "    <tr>\n",
       "      <th>4</th>\n",
       "      <td>2018-09-24</td>\n",
       "      <td>233.55</td>\n",
       "      <td>239.20</td>\n",
       "      <td>230.75</td>\n",
       "      <td>234.00</td>\n",
       "      <td>233.30</td>\n",
       "      <td>3423509</td>\n",
       "      <td>7999.55</td>\n",
       "    </tr>\n",
       "  </tbody>\n",
       "</table>\n",
       "</div>"
      ],
      "text/plain": [
       "         Date    Open    High     Low    Last   Close  Total Trade Quantity  \\\n",
       "0  2018-09-28  234.05  235.95  230.20  233.50  233.75               3069914   \n",
       "1  2018-09-27  234.55  236.80  231.10  233.80  233.25               5082859   \n",
       "2  2018-09-26  240.00  240.00  232.50  235.00  234.25               2240909   \n",
       "3  2018-09-25  233.30  236.75  232.00  236.25  236.10               2349368   \n",
       "4  2018-09-24  233.55  239.20  230.75  234.00  233.30               3423509   \n",
       "\n",
       "   Turnover (Lacs)  \n",
       "0          7162.35  \n",
       "1         11859.95  \n",
       "2          5248.60  \n",
       "3          5503.90  \n",
       "4          7999.55  "
      ]
     },
     "execution_count": 2,
     "metadata": {},
     "output_type": "execute_result"
    }
   ],
   "source": [
    "data=pd.read_csv(\"https://raw.githubusercontent.com/mwitiderrick/stockprice/master/NSE-TATAGLOBAL.csv\")\n",
    "data.head()"
   ]
  },
  {
   "cell_type": "markdown",
   "id": "be82590f",
   "metadata": {},
   "source": [
    "<B>FEATURE EXPLORATION"
   ]
  },
  {
   "cell_type": "code",
   "execution_count": 3,
   "id": "0c34a421",
   "metadata": {},
   "outputs": [
    {
     "data": {
      "text/plain": [
       "(2035, 8)"
      ]
     },
     "execution_count": 3,
     "metadata": {},
     "output_type": "execute_result"
    }
   ],
   "source": [
    "data.shape"
   ]
  },
  {
   "cell_type": "code",
   "execution_count": 4,
   "id": "130aa5c1",
   "metadata": {},
   "outputs": [
    {
     "name": "stdout",
     "output_type": "stream",
     "text": [
      "<class 'pandas.core.frame.DataFrame'>\n",
      "RangeIndex: 2035 entries, 0 to 2034\n",
      "Data columns (total 8 columns):\n",
      " #   Column                Non-Null Count  Dtype  \n",
      "---  ------                --------------  -----  \n",
      " 0   Date                  2035 non-null   object \n",
      " 1   Open                  2035 non-null   float64\n",
      " 2   High                  2035 non-null   float64\n",
      " 3   Low                   2035 non-null   float64\n",
      " 4   Last                  2035 non-null   float64\n",
      " 5   Close                 2035 non-null   float64\n",
      " 6   Total Trade Quantity  2035 non-null   int64  \n",
      " 7   Turnover (Lacs)       2035 non-null   float64\n",
      "dtypes: float64(6), int64(1), object(1)\n",
      "memory usage: 127.3+ KB\n"
     ]
    }
   ],
   "source": [
    "data.info()"
   ]
  },
  {
   "cell_type": "code",
   "execution_count": 5,
   "id": "d44e8783",
   "metadata": {},
   "outputs": [
    {
     "data": {
      "text/html": [
       "<div>\n",
       "<style scoped>\n",
       "    .dataframe tbody tr th:only-of-type {\n",
       "        vertical-align: middle;\n",
       "    }\n",
       "\n",
       "    .dataframe tbody tr th {\n",
       "        vertical-align: top;\n",
       "    }\n",
       "\n",
       "    .dataframe thead th {\n",
       "        text-align: right;\n",
       "    }\n",
       "</style>\n",
       "<table border=\"1\" class=\"dataframe\">\n",
       "  <thead>\n",
       "    <tr style=\"text-align: right;\">\n",
       "      <th></th>\n",
       "      <th>Open</th>\n",
       "      <th>High</th>\n",
       "      <th>Low</th>\n",
       "      <th>Last</th>\n",
       "      <th>Close</th>\n",
       "      <th>Total Trade Quantity</th>\n",
       "      <th>Turnover (Lacs)</th>\n",
       "    </tr>\n",
       "  </thead>\n",
       "  <tbody>\n",
       "    <tr>\n",
       "      <th>count</th>\n",
       "      <td>2035.000000</td>\n",
       "      <td>2035.000000</td>\n",
       "      <td>2035.000000</td>\n",
       "      <td>2035.000000</td>\n",
       "      <td>2035.00000</td>\n",
       "      <td>2.035000e+03</td>\n",
       "      <td>2035.000000</td>\n",
       "    </tr>\n",
       "    <tr>\n",
       "      <th>mean</th>\n",
       "      <td>149.713735</td>\n",
       "      <td>151.992826</td>\n",
       "      <td>147.293931</td>\n",
       "      <td>149.474251</td>\n",
       "      <td>149.45027</td>\n",
       "      <td>2.335681e+06</td>\n",
       "      <td>3899.980565</td>\n",
       "    </tr>\n",
       "    <tr>\n",
       "      <th>std</th>\n",
       "      <td>48.664509</td>\n",
       "      <td>49.413109</td>\n",
       "      <td>47.931958</td>\n",
       "      <td>48.732570</td>\n",
       "      <td>48.71204</td>\n",
       "      <td>2.091778e+06</td>\n",
       "      <td>4570.767877</td>\n",
       "    </tr>\n",
       "    <tr>\n",
       "      <th>min</th>\n",
       "      <td>81.100000</td>\n",
       "      <td>82.800000</td>\n",
       "      <td>80.000000</td>\n",
       "      <td>81.000000</td>\n",
       "      <td>80.95000</td>\n",
       "      <td>3.961000e+04</td>\n",
       "      <td>37.040000</td>\n",
       "    </tr>\n",
       "    <tr>\n",
       "      <th>25%</th>\n",
       "      <td>120.025000</td>\n",
       "      <td>122.100000</td>\n",
       "      <td>118.300000</td>\n",
       "      <td>120.075000</td>\n",
       "      <td>120.05000</td>\n",
       "      <td>1.146444e+06</td>\n",
       "      <td>1427.460000</td>\n",
       "    </tr>\n",
       "    <tr>\n",
       "      <th>50%</th>\n",
       "      <td>141.500000</td>\n",
       "      <td>143.400000</td>\n",
       "      <td>139.600000</td>\n",
       "      <td>141.100000</td>\n",
       "      <td>141.25000</td>\n",
       "      <td>1.783456e+06</td>\n",
       "      <td>2512.030000</td>\n",
       "    </tr>\n",
       "    <tr>\n",
       "      <th>75%</th>\n",
       "      <td>157.175000</td>\n",
       "      <td>159.400000</td>\n",
       "      <td>155.150000</td>\n",
       "      <td>156.925000</td>\n",
       "      <td>156.90000</td>\n",
       "      <td>2.813594e+06</td>\n",
       "      <td>4539.015000</td>\n",
       "    </tr>\n",
       "    <tr>\n",
       "      <th>max</th>\n",
       "      <td>327.700000</td>\n",
       "      <td>328.750000</td>\n",
       "      <td>321.650000</td>\n",
       "      <td>325.950000</td>\n",
       "      <td>325.75000</td>\n",
       "      <td>2.919102e+07</td>\n",
       "      <td>55755.080000</td>\n",
       "    </tr>\n",
       "  </tbody>\n",
       "</table>\n",
       "</div>"
      ],
      "text/plain": [
       "              Open         High          Low         Last       Close  \\\n",
       "count  2035.000000  2035.000000  2035.000000  2035.000000  2035.00000   \n",
       "mean    149.713735   151.992826   147.293931   149.474251   149.45027   \n",
       "std      48.664509    49.413109    47.931958    48.732570    48.71204   \n",
       "min      81.100000    82.800000    80.000000    81.000000    80.95000   \n",
       "25%     120.025000   122.100000   118.300000   120.075000   120.05000   \n",
       "50%     141.500000   143.400000   139.600000   141.100000   141.25000   \n",
       "75%     157.175000   159.400000   155.150000   156.925000   156.90000   \n",
       "max     327.700000   328.750000   321.650000   325.950000   325.75000   \n",
       "\n",
       "       Total Trade Quantity  Turnover (Lacs)  \n",
       "count          2.035000e+03      2035.000000  \n",
       "mean           2.335681e+06      3899.980565  \n",
       "std            2.091778e+06      4570.767877  \n",
       "min            3.961000e+04        37.040000  \n",
       "25%            1.146444e+06      1427.460000  \n",
       "50%            1.783456e+06      2512.030000  \n",
       "75%            2.813594e+06      4539.015000  \n",
       "max            2.919102e+07     55755.080000  "
      ]
     },
     "execution_count": 5,
     "metadata": {},
     "output_type": "execute_result"
    }
   ],
   "source": [
    "data.describe()"
   ]
  },
  {
   "cell_type": "markdown",
   "id": "64e3666d",
   "metadata": {},
   "source": [
    "<b>DATA VISUALIZATION"
   ]
  },
  {
   "cell_type": "code",
   "execution_count": 6,
   "id": "5f4da542",
   "metadata": {},
   "outputs": [
    {
     "data": {
      "text/plain": [
       "<AxesSubplot:xlabel='Total Trade Quantity', ylabel='Turnover (Lacs)'>"
      ]
     },
     "execution_count": 6,
     "metadata": {},
     "output_type": "execute_result"
    },
    {
     "data": {
      "image/png": "[encoded data removed]",
      "text/plain": [
       "<Figure size 432x288 with 1 Axes>"
      ]
     },
     "metadata": {},
     "output_type": "display_data"
    }
   ],
   "source": [
    "style.use(\"ggplot\")\n",
    "sns.scatterplot(x=\"Total Trade Quantity\" , y=\"Turnover (Lacs)\", data=data ,color=\"red\")"
   ]
  },
  {
   "cell_type": "code",
   "execution_count": 7,
   "id": "4d6d055f",
   "metadata": {},
   "outputs": [
    {
     "data": {
      "text/plain": [
       "array([[234.05],\n",
       "       [234.55],\n",
       "       [240.  ],\n",
       "       ...,\n",
       "       [121.8 ],\n",
       "       [120.3 ],\n",
       "       [122.1 ]])"
      ]
     },
     "execution_count": 7,
     "metadata": {},
     "output_type": "execute_result"
    }
   ],
   "source": [
    "train=data.iloc[:, 1:2].values\n",
    "train"
   ]
  },
  {
   "cell_type": "code",
   "execution_count": 8,
   "id": "d9db0832",
   "metadata": {},
   "outputs": [
    {
     "data": {
      "text/plain": [
       "array([[0.6202352 ],\n",
       "       [0.62226277],\n",
       "       [0.64436334],\n",
       "       ...,\n",
       "       [0.16504461],\n",
       "       [0.15896188],\n",
       "       [0.16626115]])"
      ]
     },
     "execution_count": 8,
     "metadata": {},
     "output_type": "execute_result"
    }
   ],
   "source": [
    "scaler = msc(feature_range = (0, 1))\n",
    "train_new = scaler.fit_transform(train)\n",
    "train_new"
   ]
  },
  {
   "cell_type": "code",
   "execution_count": 9,
   "id": "a67cd4b5",
   "metadata": {},
   "outputs": [],
   "source": [
    "X_train = []\n",
    "y_train = []\n",
    "for x in range(60, 2035):\n",
    "    X_train.append(train_new[x-60:x, 0])\n",
    "    y_train.append(train_new[x, 0])\n",
    "X_train, y_train = np.array(X_train), np.array(y_train)"
   ]
  },
  {
   "cell_type": "code",
   "execution_count": 10,
   "id": "82ad53dd",
   "metadata": {},
   "outputs": [],
   "source": [
    "X_train = np.reshape(X_train, (X_train.shape[0], X_train.shape[1], 1))"
   ]
  },
  {
   "cell_type": "code",
   "execution_count": 11,
   "id": "5344c2eb",
   "metadata": {},
   "outputs": [],
   "source": [
    "#Making RNN sequential layer \n",
    "reg = Sequential()\n",
    "\n",
    "#Adding the first LSTM layerand performing some dropout regularisation\n",
    "reg.add(LSTM(units = 50, return_sequences = True, input_shape = (X_train.shape[1], 1)))\n",
    "reg.add(Dropout(0.2))\n",
    "\n",
    "#Adding the second LSTM layerand performing some dropout\n",
    "reg.add(LSTM(units = 50, return_sequences = True))\n",
    "reg.add(Dropout(0.2))\n",
    "\n",
    "#Adding the third LSTM layer and performing some dropout\n",
    "reg.add(LSTM(units = 50, return_sequences = True))\n",
    "reg.add(Dropout(0.2))\n",
    "\n",
    "#Adding the fourth LSTM layer and performing some dropout\n",
    "reg.add(LSTM(units = 50))\n",
    "reg.add(Dropout(0.2))"
   ]
  },
  {
   "cell_type": "code",
   "execution_count": 12,
   "id": "957da8ee",
   "metadata": {},
   "outputs": [
    {
     "name": "stdout",
     "output_type": "stream",
     "text": [
      "Epoch 1/100\n",
      "62/62 [==============================] - 28s 152ms/step - loss: 0.0095\n",
      "Epoch 2/100\n",
      "62/62 [==============================] - 9s 141ms/step - loss: 0.0037\n",
      "Epoch 3/100\n",
      "62/62 [==============================] - 9s 145ms/step - loss: 0.0032\n",
      "Epoch 4/100\n",
      "62/62 [==============================] - 7s 118ms/step - loss: 0.0027\n",
      "Epoch 5/100\n",
      "62/62 [==============================] - 8s 136ms/step - loss: 0.0026\n",
      "Epoch 6/100\n",
      "62/62 [==============================] - 7s 118ms/step - loss: 0.0025\n",
      "Epoch 7/100\n",
      "62/62 [==============================] - 9s 142ms/step - loss: 0.0021\n",
      "Epoch 8/100\n",
      "62/62 [==============================] - 7s 114ms/step - loss: 0.0019\n",
      "Epoch 9/100\n",
      "62/62 [==============================] - 9s 145ms/step - loss: 0.0021\n",
      "Epoch 10/100\n",
      "62/62 [==============================] - 8s 121ms/step - loss: 0.0019\n",
      "Epoch 11/100\n",
      "62/62 [==============================] - 9s 138ms/step - loss: 0.0019\n",
      "Epoch 12/100\n",
      "62/62 [==============================] - 7s 112ms/step - loss: 0.0018\n",
      "Epoch 13/100\n",
      "62/62 [==============================] - 8s 132ms/step - loss: 0.0017\n",
      "Epoch 14/100\n",
      "62/62 [==============================] - 6s 104ms/step - loss: 0.0017\n",
      "Epoch 15/100\n",
      "62/62 [==============================] - 8s 124ms/step - loss: 0.0018\n",
      "Epoch 16/100\n",
      "62/62 [==============================] - 7s 117ms/step - loss: 0.0019\n",
      "Epoch 17/100\n",
      "62/62 [==============================] - 7s 121ms/step - loss: 0.0014\n",
      "Epoch 18/100\n",
      "62/62 [==============================] - 8s 126ms/step - loss: 0.0014\n",
      "Epoch 19/100\n",
      "62/62 [==============================] - 8s 126ms/step - loss: 0.0014\n",
      "Epoch 20/100\n",
      "62/62 [==============================] - 8s 124ms/step - loss: 0.0013\n",
      "Epoch 21/100\n",
      "62/62 [==============================] - 7s 119ms/step - loss: 0.0014\n",
      "Epoch 22/100\n",
      "62/62 [==============================] - 8s 130ms/step - loss: 0.0015\n",
      "Epoch 23/100\n",
      "62/62 [==============================] - 7s 105ms/step - loss: 0.0014\n",
      "Epoch 24/100\n",
      "62/62 [==============================] - 8s 129ms/step - loss: 0.0016\n",
      "Epoch 25/100\n",
      "62/62 [==============================] - 7s 106ms/step - loss: 0.0013\n",
      "Epoch 26/100\n",
      "62/62 [==============================] - 8s 131ms/step - loss: 0.0014\n",
      "Epoch 27/100\n",
      "62/62 [==============================] - 7s 108ms/step - loss: 0.0012\n",
      "Epoch 28/100\n",
      "62/62 [==============================] - 8s 132ms/step - loss: 0.0011\n",
      "Epoch 29/100\n",
      "62/62 [==============================] - 7s 110ms/step - loss: 0.0012\n",
      "Epoch 30/100\n",
      "62/62 [==============================] - 8s 133ms/step - loss: 0.0011\n",
      "Epoch 31/100\n",
      "62/62 [==============================] - 7s 112ms/step - loss: 0.0012\n",
      "Epoch 32/100\n",
      "62/62 [==============================] - 8s 125ms/step - loss: 0.0012\n",
      "Epoch 33/100\n",
      "62/62 [==============================] - 7s 119ms/step - loss: 9.7238e-04\n",
      "Epoch 34/100\n",
      "62/62 [==============================] - 7s 120ms/step - loss: 0.0010\n",
      "Epoch 35/100\n",
      "62/62 [==============================] - 8s 126ms/step - loss: 0.0011\n",
      "Epoch 36/100\n",
      "62/62 [==============================] - 7s 111ms/step - loss: 9.6123e-04\n",
      "Epoch 37/100\n",
      "62/62 [==============================] - 8s 129ms/step - loss: 0.0010\n",
      "Epoch 38/100\n",
      "62/62 [==============================] - 6s 103ms/step - loss: 9.4121e-04\n",
      "Epoch 39/100\n",
      "62/62 [==============================] - 8s 133ms/step - loss: 0.0011\n",
      "Epoch 40/100\n",
      "62/62 [==============================] - 7s 109ms/step - loss: 9.0726e-04\n",
      "Epoch 41/100\n",
      "62/62 [==============================] - 8s 132ms/step - loss: 8.0316e-04\n",
      "Epoch 42/100\n",
      "62/62 [==============================] - 7s 116ms/step - loss: 9.3309e-04\n",
      "Epoch 43/100\n",
      "62/62 [==============================] - 8s 133ms/step - loss: 0.0011\n",
      "Epoch 44/100\n",
      "62/62 [==============================] - 7s 112ms/step - loss: 0.0010\n",
      "Epoch 45/100\n",
      "62/62 [==============================] - 8s 135ms/step - loss: 9.2747e-04\n",
      "Epoch 46/100\n",
      "62/62 [==============================] - 7s 115ms/step - loss: 7.1885e-04\n",
      "Epoch 47/100\n",
      "62/62 [==============================] - 9s 140ms/step - loss: 8.8170e-04\n",
      "Epoch 48/100\n",
      "62/62 [==============================] - 8s 122ms/step - loss: 9.2581e-04\n",
      "Epoch 49/100\n",
      "62/62 [==============================] - 9s 144ms/step - loss: 9.4868e-04\n",
      "Epoch 50/100\n",
      "62/62 [==============================] - 7s 115ms/step - loss: 8.9235e-04\n",
      "Epoch 51/100\n",
      "62/62 [==============================] - 8s 133ms/step - loss: 8.3197e-04\n",
      "Epoch 52/100\n",
      "62/62 [==============================] - 7s 111ms/step - loss: 7.7239e-04\n",
      "Epoch 53/100\n",
      "62/62 [==============================] - 8s 134ms/step - loss: 8.0789e-04\n",
      "Epoch 54/100\n",
      "62/62 [==============================] - 7s 117ms/step - loss: 8.0054e-04\n",
      "Epoch 55/100\n",
      "62/62 [==============================] - 8s 126ms/step - loss: 7.9907e-04\n",
      "Epoch 56/100\n",
      "62/62 [==============================] - 8s 132ms/step - loss: 8.9150e-04\n",
      "Epoch 57/100\n",
      "62/62 [==============================] - 8s 137ms/step - loss: 7.7561e-04\n",
      "Epoch 58/100\n",
      "62/62 [==============================] - 8s 132ms/step - loss: 6.7431e-04\n",
      "Epoch 59/100\n",
      "62/62 [==============================] - 8s 138ms/step - loss: 7.4725e-04\n",
      "Epoch 60/100\n",
      "62/62 [==============================] - 8s 123ms/step - loss: 7.8793e-04\n",
      "Epoch 61/100\n",
      "62/62 [==============================] - 8s 134ms/step - loss: 7.3123e-04\n",
      "Epoch 62/100\n",
      "62/62 [==============================] - 7s 118ms/step - loss: 7.9878e-04\n",
      "Epoch 63/100\n",
      "62/62 [==============================] - 8s 134ms/step - loss: 6.9742e-04\n",
      "Epoch 64/100\n",
      "62/62 [==============================] - 8s 123ms/step - loss: 7.3727e-04\n",
      "Epoch 65/100\n",
      "62/62 [==============================] - 8s 134ms/step - loss: 6.3872e-04\n",
      "Epoch 66/100\n",
      "62/62 [==============================] - 8s 124ms/step - loss: 6.6362e-04\n",
      "Epoch 67/100\n",
      "62/62 [==============================] - 9s 139ms/step - loss: 7.1706e-04\n",
      "Epoch 68/100\n",
      "62/62 [==============================] - 8s 133ms/step - loss: 7.9624e-04\n",
      "Epoch 69/100\n",
      "62/62 [==============================] - 9s 142ms/step - loss: 7.2191e-04\n",
      "Epoch 70/100\n",
      "62/62 [==============================] - 7s 119ms/step - loss: 6.4085e-04\n",
      "Epoch 71/100\n",
      "62/62 [==============================] - 9s 144ms/step - loss: 7.2398e-04\n",
      "Epoch 72/100\n",
      "62/62 [==============================] - 8s 124ms/step - loss: 7.3955e-04\n",
      "Epoch 73/100\n",
      "62/62 [==============================] - 8s 134ms/step - loss: 6.7510e-04\n",
      "Epoch 74/100\n",
      "62/62 [==============================] - 7s 115ms/step - loss: 7.4131e-04\n",
      "Epoch 75/100\n",
      "62/62 [==============================] - 9s 140ms/step - loss: 7.4875e-04\n",
      "Epoch 76/100\n",
      "62/62 [==============================] - 8s 121ms/step - loss: 7.4554e-04\n",
      "Epoch 77/100\n",
      "62/62 [==============================] - 9s 137ms/step - loss: 7.5220e-04\n",
      "Epoch 78/100\n",
      "62/62 [==============================] - 7s 120ms/step - loss: 6.4905e-04\n",
      "Epoch 79/100\n",
      "62/62 [==============================] - 8s 137ms/step - loss: 7.1774e-04\n",
      "Epoch 80/100\n",
      "62/62 [==============================] - 7s 120ms/step - loss: 6.1189e-04 0s - loss: 6.1626\n",
      "Epoch 81/100\n",
      "62/62 [==============================] - 9s 142ms/step - loss: 5.8194e-04\n",
      "Epoch 82/100\n",
      "62/62 [==============================] - 8s 122ms/step - loss: 7.4013e-04\n",
      "Epoch 83/100\n",
      "62/62 [==============================] - 9s 140ms/step - loss: 7.5969e-04\n",
      "Epoch 84/100\n",
      "62/62 [==============================] - 7s 120ms/step - loss: 6.4106e-04\n",
      "Epoch 85/100\n",
      "62/62 [==============================] - 8s 132ms/step - loss: 6.3245e-04\n",
      "Epoch 86/100\n",
      "62/62 [==============================] - 7s 119ms/step - loss: 7.0503e-04\n",
      "Epoch 87/100\n",
      "62/62 [==============================] - 8s 136ms/step - loss: 6.1632e-04\n",
      "Epoch 88/100\n",
      "62/62 [==============================] - 7s 116ms/step - loss: 6.3027e-04\n",
      "Epoch 89/100\n",
      "62/62 [==============================] - 8s 133ms/step - loss: 6.0474e-04\n",
      "Epoch 90/100\n",
      "62/62 [==============================] - 8s 124ms/step - loss: 6.1012e-04\n",
      "Epoch 91/100\n",
      "62/62 [==============================] - 9s 138ms/step - loss: 7.1239e-04\n",
      "Epoch 92/100\n",
      "62/62 [==============================] - 7s 115ms/step - loss: 6.5752e-04\n",
      "Epoch 93/100\n",
      "62/62 [==============================] - 8s 135ms/step - loss: 6.5652e-04\n",
      "Epoch 94/100\n",
      "62/62 [==============================] - 7s 115ms/step - loss: 6.7170e-04\n",
      "Epoch 95/100\n",
      "62/62 [==============================] - 8s 133ms/step - loss: 6.4583e-04\n",
      "Epoch 96/100\n"
     ]
    },
    {
     "name": "stdout",
     "output_type": "stream",
     "text": [
      "62/62 [==============================] - 7s 121ms/step - loss: 6.0915e-04\n",
      "Epoch 97/100\n",
      "62/62 [==============================] - 9s 142ms/step - loss: 7.9745e-04\n",
      "Epoch 98/100\n",
      "62/62 [==============================] - 7s 120ms/step - loss: 5.9587e-04\n",
      "Epoch 99/100\n",
      "62/62 [==============================] - 8s 134ms/step - loss: 5.5523e-04\n",
      "Epoch 100/100\n",
      "62/62 [==============================] - 7s 117ms/step - loss: 5.9108e-04\n"
     ]
    },
    {
     "data": {
      "text/plain": [
       "<keras.callbacks.History at 0x212b615dee0>"
      ]
     },
     "execution_count": 12,
     "metadata": {},
     "output_type": "execute_result"
    }
   ],
   "source": [
    "#Fitting and training the data\n",
    "reg.add(Dense(units = 1))\n",
    "\n",
    "reg.compile(optimizer = 'adam', loss = 'mean_squared_error')\n",
    "\n",
    "reg.fit(X_train, y_train, epochs = 100, batch_size = 32)"
   ]
  },
  {
   "cell_type": "code",
   "execution_count": 13,
   "id": "86a95856",
   "metadata": {},
   "outputs": [
    {
     "data": {
      "text/plain": [
       "array([[220.1 ],\n",
       "       [221.1 ],\n",
       "       [229.45],\n",
       "       [230.3 ],\n",
       "       [237.7 ],\n",
       "       [237.1 ],\n",
       "       [229.7 ],\n",
       "       [226.25],\n",
       "       [215.  ],\n",
       "       [215.  ],\n",
       "       [215.5 ],\n",
       "       [208.  ],\n",
       "       [217.  ],\n",
       "       [223.5 ],\n",
       "       [230.  ],\n",
       "       [234.55]])"
      ]
     },
     "execution_count": 13,
     "metadata": {},
     "output_type": "execute_result"
    }
   ],
   "source": [
    "# Getting the real stock price\n",
    "data_test = pd.read_csv('https://raw.githubusercontent.com/mwitiderrick/stockprice/master/tatatest.csv')\n",
    "rsp = data_test.iloc[:, 1:2].values\n",
    "rsp"
   ]
  },
  {
   "cell_type": "code",
   "execution_count": 14,
   "id": "9b6538ba",
   "metadata": {},
   "outputs": [],
   "source": [
    "# Getting the predicted stock price\n",
    "data_total = pd.concat((data['Open'], data_test['Open']), axis = 0)\n",
    "input = data_total[len(data_total) - len(data_test) - 60:].values\n",
    "input = input.reshape(-1,1)\n",
    "input = scaler.transform(input)\n",
    "X_test = []\n",
    "\n",
    "for i in range(60, 76):\n",
    "    X_test.append(input[i-60:i, 0])\n",
    "\n",
    "X_test = np.array(X_test)\n",
    "X_test = np.reshape(X_test, (X_test.shape[0], X_test.shape[1], 1))\n",
    "psp = reg.predict(X_test)\n",
    "\n",
    "psp = scaler.inverse_transform(psp)"
   ]
  },
  {
   "cell_type": "code",
   "execution_count": 15,
   "id": "5b839c0b",
   "metadata": {},
   "outputs": [
    {
     "data": {
      "image/png": "[encoded data removed]",
      "text/plain": [
       "<Figure size 432x288 with 1 Axes>"
      ]
     },
     "metadata": {},
     "output_type": "display_data"
    }
   ],
   "source": [
    "#Plotting\n",
    "plt.plot(rsp, color = 'green',label = 'Real_Tata_Stock_Price')\n",
    "plt.plot(psp, color = 'red',label = 'Predicted_Tata_Stock_Price')\n",
    "plt.title('Tata Stock Price Prediction')\n",
    "plt.xlabel('Time in Years')\n",
    "plt.ylabel('Tata Stock Price')\n",
    "plt.legend()\n",
    "plt.show()"
   ]
  },
  {
   "cell_type": "markdown",
   "id": "20833b49",
   "metadata": {},
   "source": [
    "<b>CONCLUSION"
   ]
  },
  {
   "cell_type": "markdown",
   "id": "2348c158",
   "metadata": {},
   "source": [
    "<b>1.The particular dataset consists of 2035 observations and 8 variables."
   ]
  },
  {
   "cell_type": "markdown",
   "id": "fec2ad1a",
   "metadata": {},
   "source": [
    "<b>2.The data visualization of stock market graph depicts that the stock price of real tata stock didn't have much increase whereas,the predicted tata stock price had a high rise over the years. "
   ]
  }
 ],
 "metadata": {
  "kernelspec": {
   "display_name": "Python 3",
   "language": "python",
   "name": "python3"
  },
  "language_info": {
   "codemirror_mode": {
    "name": "ipython",
    "version": 3
   },
   "file_extension": ".py",
   "mimetype": "text/x-python",
   "name": "python",
   "nbconvert_exporter": "python",
   "pygments_lexer": "ipython3",
   "version": "3.8.8"
  }
 },
 "nbformat": 4,
 "nbformat_minor": 5
}
